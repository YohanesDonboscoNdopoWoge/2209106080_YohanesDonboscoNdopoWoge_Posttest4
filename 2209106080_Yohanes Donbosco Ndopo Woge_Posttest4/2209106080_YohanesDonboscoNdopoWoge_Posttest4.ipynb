{
  "nbformat": 4,
  "nbformat_minor": 0,
  "metadata": {
    "colab": {
      "provenance": []
    },
    "kernelspec": {
      "name": "python3",
      "display_name": "Python 3"
    },
    "language_info": {
      "name": "python"
    }
  },
  "cells": [
    {
      "cell_type": "code",
      "execution_count": 34,
      "metadata": {
        "id": "WIpGMwJUo8n0"
      },
      "outputs": [],
      "source": [
        "import pandas as pd\n",
        "from sklearn.model_selection import train_test_split\n",
        "from sklearn.preprocessing import LabelEncoder, StandardScaler\n",
        "from sklearn.svm import SVC\n",
        "from sklearn.ensemble import RandomForestClassifier\n",
        "from sklearn.metrics import classification_report, confusion_matrix\n",
        "import seaborn as sns\n",
        "import matplotlib.pyplot as plt"
      ]
    },
    {
      "cell_type": "code",
      "source": [
        "df = pd.read_csv('/content/proyeksi-penduduk-2010-2035.csv')"
      ],
      "metadata": {
        "id": "BA1nhT1_thJl"
      },
      "execution_count": 35,
      "outputs": []
    },
    {
      "cell_type": "code",
      "source": [
        "le = LabelEncoder()\n",
        "df['kelamin_encoded'] = le.fit_transform(df['kelamin'])  # L = 0, P = 1\n",
        "df['propinsi_encoded'] = le.fit_transform(df['propinsi'])  # Encode propinsi\n"
      ],
      "metadata": {
        "id": "E8b-KM1utuUZ"
      },
      "execution_count": 36,
      "outputs": []
    },
    {
      "cell_type": "code",
      "source": [
        "# Feature Engineering: Rasio jumlah per tahun\n",
        "df['jumlah_per_tahun'] = df['jumlah'] / df['tahun']"
      ],
      "metadata": {
        "id": "MoIxzKmtuEe2"
      },
      "execution_count": 37,
      "outputs": []
    },
    {
      "cell_type": "code",
      "source": [
        "# Pilih fitur dan target\n",
        "X = df[['kode', 'tahun', 'jumlah', 'jumlah_per_tahun', 'propinsi_encoded']]\n",
        "y = df['kelamin_encoded']"
      ],
      "metadata": {
        "id": "QESVl6vOuQ4Y"
      },
      "execution_count": 38,
      "outputs": []
    },
    {
      "cell_type": "code",
      "source": [
        "# Split data\n",
        "X_train, X_test, y_train, y_test = train_test_split(X, y, test_size=0.3, random_state=42)\n",
        "\n",
        "# Standarisasi fitur\n",
        "scaler = StandardScaler()\n",
        "X_train_scaled = scaler.fit_transform(X_train)\n",
        "X_test_scaled = scaler.transform(X_test)"
      ],
      "metadata": {
        "id": "Lj4561QTuaUz"
      },
      "execution_count": 39,
      "outputs": []
    },
    {
      "cell_type": "code",
      "source": [
        "svc_model = SVC(kernel='linear', random_state=42)\n",
        "svc_model.fit(X_train_scaled, y_train)\n",
        "\n",
        "# Predict and Evaluate SVC model\n",
        "y_pred_svc = svc_model.predict(X_test_scaled)\n",
        "print(\"Support Vector Classifier (SVC) Classification Report\")\n",
        "print(classification_report(y_test, y_pred_svc))"
      ],
      "metadata": {
        "colab": {
          "base_uri": "https://localhost:8080/"
        },
        "id": "JS1GGtZSui6d",
        "outputId": "4d6ca40e-0328-494a-b443-c485561540c6"
      },
      "execution_count": 40,
      "outputs": [
        {
          "output_type": "stream",
          "name": "stdout",
          "text": [
            "Support Vector Classifier (SVC) Classification Report\n",
            "              precision    recall  f1-score   support\n",
            "\n",
            "           0       0.43      0.70      0.53        56\n",
            "           1       0.41      0.19      0.26        63\n",
            "\n",
            "    accuracy                           0.43       119\n",
            "   macro avg       0.42      0.44      0.40       119\n",
            "weighted avg       0.42      0.43      0.39       119\n",
            "\n"
          ]
        }
      ]
    },
    {
      "cell_type": "code",
      "source": [
        "# Confusion Matrix\n",
        "cm_svc = confusion_matrix(y_test, y_pred_svc)\n",
        "sns.heatmap(cm_svc, annot=True, fmt=\"d\", cmap=\"Blues\")\n",
        "plt.title(\"Confusion Matrix - SVC\")\n",
        "plt.show()"
      ],
      "metadata": {
        "colab": {
          "base_uri": "https://localhost:8080/",
          "height": 452
        },
        "id": "hIfJ3BWcu8Pr",
        "outputId": "d3dbce8b-dd29-4fa9-bc26-54d55e3a5d92"
      },
      "execution_count": 41,
      "outputs": [
        {
          "output_type": "display_data",
          "data": {
            "text/plain": [
              "<Figure size 640x480 with 2 Axes>"
            ],
            "image/png": "[encoded data removed]"
          },
          "metadata": {}
        }
      ]
    },
    {
      "cell_type": "code",
      "source": [
        "# ------------------------------\n",
        "# Random Forest Classifier\n",
        "# ------------------------------\n",
        "rf_model = RandomForestClassifier(n_estimators=100, random_state=42)\n",
        "rf_model.fit(X_train, y_train)\n",
        "\n",
        "# Predict and Evaluate Random Forest model\n",
        "y_pred_rf = rf_model.predict(X_test)\n",
        "print(\"Random Forest Classifier Classification Report\")\n",
        "print(classification_report(y_test, y_pred_rf))\n",
        "\n",
        "# Confusion Matrix\n",
        "cm_rf = confusion_matrix(y_test, y_pred_rf)\n",
        "sns.heatmap(cm_rf, annot=True, fmt=\"d\", cmap=\"Greens\")\n",
        "plt.title(\"Confusion Matrix - Random Forest\")\n",
        "plt.show()"
      ],
      "metadata": {
        "colab": {
          "base_uri": "https://localhost:8080/",
          "height": 626
        },
        "id": "_MtUGcoAze0R",
        "outputId": "22f2bb87-7834-41b5-d252-7c0a351430ce"
      },
      "execution_count": 42,
      "outputs": [
        {
          "output_type": "stream",
          "name": "stdout",
          "text": [
            "Random Forest Classifier Classification Report\n",
            "              precision    recall  f1-score   support\n",
            "\n",
            "           0       0.11      0.11      0.11        56\n",
            "           1       0.19      0.19      0.19        63\n",
            "\n",
            "    accuracy                           0.15       119\n",
            "   macro avg       0.15      0.15      0.15       119\n",
            "weighted avg       0.15      0.15      0.15       119\n",
            "\n"
          ]
        },
        {
          "output_type": "display_data",
          "data": {
            "text/plain": [
              "<Figure size 640x480 with 2 Axes>"
            ],
            "image/png": "[encoded data removed]"
          },
          "metadata": {}
        }
      ]
    }
  ]
}